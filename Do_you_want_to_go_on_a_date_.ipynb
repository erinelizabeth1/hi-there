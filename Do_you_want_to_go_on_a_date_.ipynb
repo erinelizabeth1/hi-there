{
  "cells": [
    {
      "cell_type": "code",
      "execution_count": null,
      "metadata": {
        "colab": {
          "base_uri": "https://localhost:8080/"
        },
        "id": "ElAImnP9cUTX",
        "outputId": "a7f23bca-a396-41b4-e10c-0736a573bb3a"
      },
      "outputs": [
        {
          "output_type": "stream",
          "name": "stdout",
          "text": [
            "Hey I think you're pretty cool\n",
            "Please answer Yes or No to these questions\n"
          ]
        }
      ],
      "source": [
        "#@title\n",
        "print(\"Hey I think you're pretty cool\")\n",
        "print(\"Please answer Yes or No to these questions\")\n",
        "while True:\n",
        "  try:\n",
        "    question = input(\"Are you free this weekend?\")\n",
        "    if question == \"Yes\":\n",
        "      print(\"Cool :-)\")\n",
        "    if question == \"yes\":\n",
        "      print(\"Cool :-)\")\n",
        "      break;\n",
        "    else:\n",
        "      print(\"Try again!\")   \n",
        "  except:\n",
        "    continue\n",
        "\n",
        "while True:\n",
        "  try:\n",
        "    question = input(\"Do you want to go on a date?\")\n",
        "    if question == \"Yes\":\n",
        "      print(\"Awesome!\")\n",
        "    if question == \"yes\":\n",
        "      print(\"Awesome\")\n",
        "      break;\n",
        "    else:\n",
        "      print(\"Wrong answer >:-(\")   \n",
        "  except:\n",
        "    continue\n",
        "\n",
        "question = input(\"What's your favorite color?\")\n",
        "print(\"Perfect! I will wear a dress that is \" +question)\n",
        "\n",
        "question=input(\"Do you want to go get food, go to the park, or code something together, OR all three?\")\n",
        "question=input(\"When and where?\")\n",
        "print(\"Cool! See you then :-)\")\n",
        "\n"
      ]
    },
    {
      "cell_type": "code",
      "source": [
        ""
      ],
      "metadata": {
        "id": "JW_A1P4v13qN"
      },
      "execution_count": null,
      "outputs": []
    }
  ],
  "metadata": {
    "colab": {
      "name": "Do you want to go on a date?",
      "provenance": []
    },
    "kernelspec": {
      "display_name": "Python 3",
      "name": "python3"
    },
    "language_info": {
      "name": "python"
    }
  },
  "nbformat": 4,
  "nbformat_minor": 0
}